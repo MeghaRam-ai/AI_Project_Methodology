{
 "cells": [
  {
   "cell_type": "code",
   "execution_count": 2,
   "outputs": [],
   "source": [
    "import pandas as pd"
   ],
   "metadata": {
    "collapsed": false,
    "pycharm": {
     "name": "#%%\n"
    }
   }
  },
  {
   "cell_type": "markdown",
   "source": [
    "# Model Training"
   ],
   "metadata": {
    "collapsed": false,
    "pycharm": {
     "name": "#%% md\n"
    }
   }
  },
  {
   "cell_type": "code",
   "execution_count": 2,
   "outputs": [],
   "source": [
    "import sys\n",
    "\n",
    "sys.path.append('..')"
   ],
   "metadata": {
    "collapsed": false,
    "pycharm": {
     "name": "#%%\n"
    }
   }
  },
  {
   "cell_type": "code",
   "execution_count": 4,
   "outputs": [
    {
     "name": "stdout",
     "output_type": "stream",
     "text": [
      "{'mse': 866836387.5890515, 'msle': 0.023678281492890717, 'rmsle': 0.154}\n"
     ]
    }
   ],
   "source": [
    "from src.train import build_model\n",
    "\n",
    "training_data_df = pd.read_csv('../data/train.csv')\n",
    "model_performance_dict = build_model(training_data_df, 'first experiment')\n",
    "\n",
    "print(model_performance_dict)"
   ],
   "metadata": {
    "collapsed": false,
    "pycharm": {
     "name": "#%%\n"
    }
   }
  },
  {
   "cell_type": "markdown",
   "source": [
    "# Model Inference"
   ],
   "metadata": {
    "collapsed": false,
    "pycharm": {
     "name": "#%% md\n"
    }
   }
  },
  {
   "cell_type": "code",
   "execution_count": 3,
   "outputs": [],
   "source": [
    "user_data_df = pd.read_csv('../data/test.csv')"
   ],
   "metadata": {
    "collapsed": false,
    "pycharm": {
     "name": "#%%\n"
    }
   }
  },
  {
   "cell_type": "code",
   "execution_count": 4,
   "outputs": [
    {
     "name": "stdout",
     "output_type": "stream",
     "text": [
      "using model: /Users/mateusz/Documents/EPITA/AIProjMethodology/AI_Project_Methodology/models/mlruns/1/b48adebda6714777b43b44de138aeefc/artifacts/random forest regressor with id: b48adebda6714777b43b44de138aeefc\n",
      "[121531.225 158071.25  186032.5   185192.5   208915.    185733.25\n",
      " 162875.35  169292.75  171521.25  130862.5   204297.05   93992.5\n",
      "  95015.    152760.    148955.    390040.275 256225.95  297841.975\n",
      " 286232.275 468900.875 292315.1   219128.35  173178.6   178470.575\n",
      " 168100.85  208826.25  348867.6   252868.025 211332.175 196186.75\n",
      " 192947.25   98398.95  181145.175 286794.75  279910.    232342.225\n",
      " 193867.975 152522.5   151447.5   136896.575 174285.    156081.\n",
      " 299824.6   236127.35  218189.45  181103.75  206615.    197032.5\n",
      " 164220.8   149631.25  152271.25  173515.85  150456.175 152930.125\n",
      " 169733.35  155020.    153090.    124881.225 240708.45  135287.5\n",
      " 146050.    168578.75  118335.    126497.5   125102.075 127519.\n",
      " 100145.    129558.75  143270.    177958.75  141618.075 112286.25\n",
      " 147523.35  117854.9   156647.5   112143.65   70475.275 197445.875\n",
      " 238469.675 121472.925 149047.5   148328.35  224599.4    84402.5\n",
      " 105177.5   123722.5   148654.55  140451.35  107438.575 146582.5\n",
      " 121140.55  145367.5   149520.625 116006.55  175971.25  103398.75\n",
      " 135932.5    97018.85  131058.3   162398.825]\n"
     ]
    }
   ],
   "source": [
    "from src.inference import make_predictions\n",
    "\n",
    "predictions = make_predictions(user_data_df)\n",
    "\n",
    "print(predictions[:100])"
   ],
   "metadata": {
    "collapsed": false,
    "pycharm": {
     "name": "#%%\n"
    }
   }
  },
  {
   "cell_type": "code",
   "execution_count": null,
   "id": "4fab5c88",
   "metadata": {
    "pycharm": {
     "name": "#%%\n"
    }
   },
   "outputs": [],
   "source": []
  }
 ],
 "metadata": {
  "kernelspec": {
   "display_name": "Python 3 (ipykernel)",
   "language": "python",
   "name": "python3"
  },
  "language_info": {
   "codemirror_mode": {
    "name": "ipython",
    "version": 3
   },
   "file_extension": ".py",
   "mimetype": "text/x-python",
   "name": "python",
   "nbconvert_exporter": "python",
   "pygments_lexer": "ipython3",
   "version": "3.9.12"
  }
 },
 "nbformat": 4,
 "nbformat_minor": 5
}